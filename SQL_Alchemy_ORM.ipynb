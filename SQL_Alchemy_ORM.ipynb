{
 "cells": [
  {
   "cell_type": "markdown",
   "metadata": {},
   "source": [
    "# SQL Alchemy: Object Relational Mapping (ORM)"
   ]
  },
  {
   "cell_type": "markdown",
   "metadata": {},
   "source": [
    "## What is ORM?\n",
    "* Technique for storing, retrieving, and deleting from an object-oriented program in a relational database.\n",
    "* Utilizes a \"data layer\" to manage translation between the OO and relational DB\n",
    "* The data layer is typically a library written in the OO language that is part of, or works with your framework"
   ]
  },
  {
   "cell_type": "markdown",
   "metadata": {},
   "source": [
    "![ORM Mapping](.\\images_SQL_Alchemy_ORM\\ORM-Mappers.jpg)"
   ]
  },
  {
   "cell_type": "markdown",
   "metadata": {},
   "source": [
    "## Architecture\n",
    "\n",
    "A simplified understanding of OO to DB could be represented by the following diagram.\n",
    "![Simple Architecture representation](.\\images_SQL_Alchemy_ORM\\Simple_ORM.png)\n",
    "\n",
    "![SQLAlchemy Architecture](.\\images_SQL_Alchemy_ORM\\sqla_arch_small.png)"
   ]
  },
  {
   "cell_type": "code",
   "execution_count": null,
   "metadata": {},
   "outputs": [],
   "source": []
  }
 ],
 "metadata": {
  "kernelspec": {
   "display_name": "Python 3",
   "language": "python",
   "name": "python3"
  },
  "language_info": {
   "codemirror_mode": {
    "name": "ipython",
    "version": 3
   },
   "file_extension": ".py",
   "mimetype": "text/x-python",
   "name": "python",
   "nbconvert_exporter": "python",
   "pygments_lexer": "ipython3",
   "version": "3.7.6"
  }
 },
 "nbformat": 4,
 "nbformat_minor": 4
}
