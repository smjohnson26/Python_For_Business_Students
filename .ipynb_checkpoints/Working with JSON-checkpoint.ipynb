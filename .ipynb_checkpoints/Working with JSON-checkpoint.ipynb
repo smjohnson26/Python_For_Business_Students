{
 "cells": [
  {
   "cell_type": "markdown",
   "metadata": {},
   "source": [
    "## Working with JSON\n",
    "First, how is JSON pronounced? Some pronounce as 'Jason', as in Jason Bourne. I prefer Jay-sahn, but feel free to pronounce it however you like.\n",
    "\n",
    "JSON stands for Java Script Object Notation and is an efficient format for storing and transporting data. JSON is often the preferred format for sending data to, and receiving data from, a web server.\n",
    "\n",
    "JSON are very similar in format to Python with a few exceptions. Boolean values are lowercase instead of title case, instead of None, JSON uses null. All keys are strings and values can be  strings, numbers, NULL, lists, or JSON. \n",
    "\n",
    "Python provides a JSON module. "
   ]
  },
  {
   "cell_type": "code",
   "execution_count": 1,
   "metadata": {},
   "outputs": [],
   "source": [
    "# json is part of the standard library, so no need to install anything\n",
    "import json\n"
   ]
  },
  {
   "cell_type": "code",
   "execution_count": null,
   "metadata": {},
   "outputs": [],
   "source": [
    "sample_json = \"{\n",
    "    \"quiz\": {\n",
    "        \"NBA\": {\n",
    "            \"Q1\": {\n",
    "                \"Question\": \"For which team did Michael Jordan play?\",\n",
    "                \"options\": [\n",
    "                    \"Chicago Bulls\",\n",
    "                    \"Los Angeles Lakers\",\n",
    "                    \"Golden State Warriros\",\n",
    "                    \"Huston Rockets\"\n",
    "                ],\n",
    "                \"correct answer\": \"Chicago Bulls\"\n",
    "            }\n",
    "        },\n",
    "        \"Q2\": {\n",
    "                \"Question\": \"(True/Fales: Michael Jordan was the greatest basketball player to ever play the game.\",\n",
    "                \"options\": [\n",
    "                    \"True\",\n",
    "                    \"False\"                    \n",
    "                ],\n",
    "                \"correct answer\": true\n",
    "            }\n",
    "        },\n",
    "        \"Addition\": {\n",
    "            \"Q1\": {\n",
    "                \"Question 1\": \"5 + 7 = ?\",\n",
    "                \"options\": [\n",
    "                    \"10\",\n",
    "                    \"11\",\n",
    "                    \"12\",\n",
    "                    \"13\"\n",
    "                ],\n",
    "                \"correct answer\": \"12\"\n",
    "            },\n",
    "            \"Q2\": {\n",
    "                \"Question 2\": \"12 - 8 = ?\",\n",
    "                \"options\": [\n",
    "                    \"1\",\n",
    "                    \"2\",\n",
    "                    \"3\",\n",
    "                    \"4\"\n",
    "                ],\n",
    "                \"correct answer\": \"4\"\n",
    "            }\n",
    "        }\n",
    "    }\n",
    "}\""
   ]
  },
  {
   "cell_type": "code",
   "execution_count": 21,
   "metadata": {},
   "outputs": [
    {
     "name": "stdout",
     "output_type": "stream",
     "text": [
      "This dataset contains the spirits purchase information of Iowa Class “E” liquor licensees by product and date of purchase from January 1, 2014 to current.  The dataset can be used to analyze total spirits sales in Iowa of individual products at the store level.\n"
     ]
    }
   ],
   "source": [
    "# To load JSON data from a file using json.load(f)\n",
    "# To load JSON data from a string use json.loads(s) (the 's' in loads is for string)\n",
    "\n",
    "with open(r'files\\IA_liquor_metadata.json', encoding='utf-8') as f:\n",
    "    json_metadata = json.load(f)\n",
    "print(json_metadata['description'])"
   ]
  },
  {
   "cell_type": "code",
   "execution_count": null,
   "metadata": {},
   "outputs": [],
   "source": [
    "# To write data to a JSON file, use json.dump(f)"
   ]
  }
 ],
 "metadata": {
  "kernelspec": {
   "display_name": "Python 3",
   "language": "python",
   "name": "python3"
  },
  "language_info": {
   "codemirror_mode": {
    "name": "ipython",
    "version": 3
   },
   "file_extension": ".py",
   "mimetype": "text/x-python",
   "name": "python",
   "nbconvert_exporter": "python",
   "pygments_lexer": "ipython3",
   "version": "3.7.6"
  }
 },
 "nbformat": 4,
 "nbformat_minor": 4
}
