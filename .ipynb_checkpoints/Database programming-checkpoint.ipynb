{
 "cells": [
  {
   "cell_type": "markdown",
   "metadata": {},
   "source": [
    "# Using Databases and SQLite\n",
    "\n",
    "Helpful tools: \n",
    "* SQLite Studio (multi-platform)\n",
    "https://sqlitestudio.pl/index.rvt?act=download\n",
    "\n",
    "* SQL Browser\n",
    "https://sqlitebrowser.org/\n",
    "\n",
    "Link to helpful SQL commands: \n",
    "https://www.w3schools.com/sql/sql_syntax.asp\n"
   ]
  },
  {
   "cell_type": "code",
   "execution_count": 2,
   "metadata": {},
   "outputs": [],
   "source": [
    "# Creates a SQLite database called music.sqlite\n",
    "import sqlite3\n",
    "conn = sqlite3.connect('music.sqlite') \n",
    "cur = conn.cursor()\n",
    "\n",
    "# Delete Tracks table (if exists), then create a table with two fields (title and plays)\n",
    "cur.execute('DROP TABLE IF EXISTS Tracks') \n",
    "cur.execute('CREATE TABLE Tracks (title TEXT, plays INTEGER)') \n",
    "conn.close()"
   ]
  },
  {
   "cell_type": "code",
   "execution_count": 3,
   "metadata": {},
   "outputs": [
    {
     "name": "stdout",
     "output_type": "stream",
     "text": [
      "Tracks:\n",
      "('Thunderstruck', 20)\n",
      "('My Way', 15)\n",
      "('Who can it be now?', 55)\n",
      "('Party on Fifth Ave.', 80)\n"
     ]
    }
   ],
   "source": [
    "conn = sqlite3.connect('music.sqlite') \n",
    "\n",
    "# Get a \"file handle\" to the database\n",
    "cur = conn.cursor()\n",
    "\n",
    "# Create two new records in the Tracks table\n",
    "cur.execute('INSERT INTO Tracks (title, plays) VALUES (?, ?)', ('Thunderstruck', 20))\n",
    "cur.execute('INSERT INTO Tracks (title, plays) VALUES (?, ?)', ('My Way', 15))\n",
    "cur.execute('INSERT INTO Tracks (title, plays) VALUES (?, ?)', ('Who can it be now?', 55))\n",
    "cur.execute('INSERT INTO Tracks (title, plays) VALUES (?, ?)', ('Party on Fifth Ave.', 80))\n",
    "\n",
    "# \"Save\" the records\n",
    "conn.commit()\n",
    "\n",
    "print('Tracks:') \n",
    "\n",
    "# Return all records (title, plays fields) from Tracks table into the cursor\n",
    "cur.execute('SELECT title, plays FROM Tracks') \n",
    "\n",
    "# iterate through the rows\n",
    "for row in cur:\n",
    "    print(row)\n",
    "\n",
    "# Delete all rows with values in the plays field that are less than 100\n",
    "cur.execute('DELETE FROM Tracks WHERE plays > 100') \n",
    "conn.commit()\n",
    "\n",
    "# Remove the cursor object from memory\n",
    "cur.close()"
   ]
  }
 ],
 "metadata": {
  "kernelspec": {
   "display_name": "Python 3",
   "language": "python",
   "name": "python3"
  },
  "language_info": {
   "codemirror_mode": {
    "name": "ipython",
    "version": 3
   },
   "file_extension": ".py",
   "mimetype": "text/x-python",
   "name": "python",
   "nbconvert_exporter": "python",
   "pygments_lexer": "ipython3",
   "version": "3.7.1"
  }
 },
 "nbformat": 4,
 "nbformat_minor": 2
}
