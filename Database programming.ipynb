{
 "cells": [
  {
   "cell_type": "markdown",
   "metadata": {},
   "source": [
    "# Using Databases and SQLite\n",
    "\n",
    "Use SQLite for small- to medium-sized databases--especially for single-user usage. If a more feature-rich solution is necessary, SQLite databases can be ported to MySQL, MS SQL, Oracle, etc.\n",
    "\n",
    "The ```sqlite``` module is part of the standard library, so you don't need to import it (```import sqlite3```).\n",
    "\n",
    "Helpful tools: \n",
    "* SQLite Studio (multi-platform)\n",
    "https://sqlitestudio.pl/index.rvt?act=download\n",
    "\n",
    "* SQL Browser\n",
    "https://sqlitebrowser.org/\n",
    "\n",
    "Link to helpful SQL commands: \n",
    "https://www.w3schools.com/sql/sql_syntax.asp\n"
   ]
  },
  {
   "cell_type": "markdown",
   "metadata": {},
   "source": [
    "## SQLite Data types\n",
    "\n",
    "See https://www.sqlite.org/datatype3.html\n",
    "\n",
    "### How to store Date/Time values\n",
    "SQLite does not have a Date/Time data type. It does, however, have a number of built-in functions that enable you to store dates as strings, integers or real data types. \n",
    "\n",
    "See: https://www.sqlitetutorial.net/sqlite-date/\n"
   ]
  },
  {
   "cell_type": "code",
   "execution_count": null,
   "metadata": {},
   "outputs": [],
   "source": [
    "# Creates a SQLite database called music.sqlite in the current working directory\n",
    "import sqlite3\n",
    "\n",
    "# Create a connection object by supplying a file name\n",
    "conn = sqlite3.connect('music.sqlite') \n",
    "\n",
    "# Obtain a cursor to the database, which allows us to execute commands\n",
    "cur = conn.cursor()\n",
    "\n",
    "# Delete Tracks table (if exists), then create a table with two fields (title and plays)\n",
    "cur.execute('DROP TABLE IF EXISTS Tracks') \n",
    "\n",
    "#   Note the use of three double-quotes (\"\"\") for a multi-line string\n",
    "cur.execute(\"\"\"CREATE TABLE Tracks (\n",
    "                                    trackID INTEGER,                                    \n",
    "                                    title TEXT, \n",
    "                                    plays INTEGER)\"\"\") \n",
    "\n",
    "conn.close() # It's good practice to close the database"
   ]
  },
  {
   "cell_type": "markdown",
   "metadata": {},
   "source": [
    "## Using SQLite Studio\n",
    "Instead of creating and managing the database using Python code, you can also use a management tool such as SQLite Studio."
   ]
  },
  {
   "cell_type": "code",
   "execution_count": null,
   "metadata": {},
   "outputs": [],
   "source": [
    "# Use the DDL from SQLiteStudio to create the table\n",
    "conn = sqlite3.connect('music.sqlite') \n",
    "cur = conn.cursor()\n",
    "cur.execute('DROP TABLE IF EXISTS Tracks') \n",
    "\n",
    "# Below is a Data Definition Language (DDL) description of a table copied from SQLiteStudio\n",
    "cur.execute(\"\"\"CREATE TABLE Tracks (\n",
    "    trackID INTEGER PRIMARY KEY AUTOINCREMENT,\n",
    "    title   TEXT,\n",
    "    plays   INTEGER\n",
    ");\"\"\")\n",
    "conn.close() # It's good practice to close the database"
   ]
  },
  {
   "cell_type": "markdown",
   "metadata": {},
   "source": [
    "## Adding Records to a database"
   ]
  },
  {
   "cell_type": "code",
   "execution_count": null,
   "metadata": {},
   "outputs": [],
   "source": [
    "# Make a connection to the database\n",
    "conn = sqlite3.connect('music.sqlite') \n",
    "\n",
    "# Get a \"file handle\" (cursor) to the database\n",
    "cur = conn.cursor()\n",
    "\n",
    "# Add records to the Tracks table\n",
    "#cur.execute('INSERT INTO Tracks VALUES (:title, :plays)', ({'title':'Thunderstruck'}, {'plays':20}))\n",
    "#cur.execute('INSERT INTO Tracks VALUES (:title, :plays)', ({'title':'My Way'}, {'plays':15}))\n",
    "#cur.execute('INSERT INTO Tracks VALUES (:title, :plays)', ({'title':'Who can it be now?'}, {'plays':55}))\n",
    "#cur.execute('INSERT INTO Tracks VALUES (:title, :plays)', ({'title':'Party on Fifth Ave.'}, {'plays':80}))\n",
    "\n",
    "# Insert individual records\n",
    "cur.execute('INSERT INTO Tracks (title, plays) values (?,?)', ('Party on Fifth Ave.', 80))\n",
    "\n",
    "# Insert multiple records\n",
    "songs = [ ('Thunderstruck',20),\n",
    "          ('Who can it be now?',57),\n",
    "          ('Watermelon Sugar', 112),\n",
    "          ('Intentions',7)]\n",
    "\n",
    "cur.executemany('INSERT INTO Tracks (title, plays) values (?,?)', songs)\n",
    "\n",
    "# \"Save\" the records\n",
    "conn.commit()"
   ]
  },
  {
   "cell_type": "code",
   "execution_count": null,
   "metadata": {},
   "outputs": [],
   "source": [
    "print('Tracks:') \n",
    "\n",
    "# Return all records (title, plays fields) from Tracks table into the cursor\n",
    "cur.execute('SELECT * FROM Tracks') \n",
    "\n",
    "# iterate through the rows\n",
    "print(\"All Tracks:\")\n",
    "for row in cur:\n",
    "    print(row)\n",
    "\n",
    "\n",
    "# Delete all rows with values in the plays field that are less than 100\n",
    "cur.execute('DELETE FROM Tracks WHERE plays > 100') \n",
    "conn.commit()\n",
    "\n",
    "cur.execute('SELECT * FROM Tracks') \n",
    "print('\\n After removing > 100:')\n",
    "for row in cur:\n",
    "    print(row)\n",
    "\n",
    "# Remove the cursor object from memory\n",
    "cur.close()"
   ]
  },
  {
   "cell_type": "code",
   "execution_count": null,
   "metadata": {},
   "outputs": [],
   "source": []
  }
 ],
 "metadata": {
  "kernelspec": {
   "display_name": "Python 3",
   "language": "python",
   "name": "python3"
  },
  "language_info": {
   "codemirror_mode": {
    "name": "ipython",
    "version": 3
   },
   "file_extension": ".py",
   "mimetype": "text/x-python",
   "name": "python",
   "nbconvert_exporter": "python",
   "pygments_lexer": "ipython3",
   "version": "3.7.6"
  }
 },
 "nbformat": 4,
 "nbformat_minor": 4
}
